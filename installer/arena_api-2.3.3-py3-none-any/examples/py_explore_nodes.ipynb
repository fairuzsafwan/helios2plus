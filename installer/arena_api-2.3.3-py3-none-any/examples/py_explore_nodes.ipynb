{
 "cells": [
  {
   "cell_type": "markdown",
   "metadata": {},
   "source": [
    "#### -----------------------------------------------------------------------------<br>Copyright (c) 2022, Lucid Vision Labs, Inc.\n",
    "##### THE  SOFTWARE  IS  PROVIDED  \"AS IS\",  WITHOUT  WARRANTY  OF  ANY  KIND,<br>EXPRESS  OR  IMPLIED,  INCLUDING  BUT  NOT  LIMITED  TO  THE  WARRANTIES<br>OF  MERCHANTABILITY,  FITNESS  FOR  A  PARTICULAR  PURPOSE  AND<br>NONINFRINGEMENT.  IN  NO  EVENT  SHALL  THE  AUTHORS  OR  COPYRIGHT  HOLDERS<br>BE  LIABLE  FOR  ANY  CLAIM,  DAMAGES  OR  OTHER  LIABILITY,  WHETHER  IN  AN<br>ACTION  OF  CONTRACT,  TORT  OR  OTHERWISE,  ARISING  FROM,  OUT  OF  OR  IN<br>CONNECTION  WITH  THE  SOFTWARE  OR  THE  USE  OR  OTHER  DEALINGS  IN  THE  SOFTWARE.<br>-----------------------------------------------------------------------------"
   ]
  },
  {
   "cell_type": "code",
   "execution_count": null,
   "metadata": {},
   "outputs": [],
   "source": [
    "import time\n",
    "from arena_api.system import system"
   ]
  },
  {
   "cell_type": "markdown",
   "metadata": {},
   "source": [
    "#### Explore: Nodes\n",
    ">    This example explores traversing the nodes as a tree and fundamental node\n",
    "    information including display name, access mode visibility, interface type,\n",
    "    and value.\n"
   ]
  },
  {
   "cell_type": "markdown",
   "metadata": {},
   "source": [
    "##### Choose node properties to explore"
   ]
  },
  {
   "cell_type": "code",
   "execution_count": null,
   "metadata": {},
   "outputs": [],
   "source": [
    "explore_access = True\n",
    "explore_visibility = True\n",
    "explore_type = True\n",
    "explore_value = True"
   ]
  },
  {
   "cell_type": "code",
   "execution_count": null,
   "metadata": {},
   "outputs": [],
   "source": [
    "\"\"\"\n",
    "Waits for the user to connect a device before raising\n",
    "an exception if it fails\n",
    "\"\"\"\n",
    "tries = 0\n",
    "tries_max = 6\n",
    "sleep_time_secs = 10\n",
    "devices = None\n",
    "while tries < tries_max:  # Wait for device for 60 seconds\n",
    "    devices = system.create_device()\n",
    "    if not devices:\n",
    "        print(\n",
    "            f'Try {tries+1} of {tries_max}: waiting for {sleep_time_secs} '\n",
    "            f'secs for a device to be connected!')\n",
    "        for sec_count in range(sleep_time_secs):\n",
    "            time.sleep(1)\n",
    "            print(f'{sec_count + 1 } seconds passed ',\n",
    "                    '.' * sec_count, end='\\r')\n",
    "        tries += 1\n",
    "    else:\n",
    "        print(f'Created {len(devices)} device(s)')\n",
    "        break\n",
    "else:\n",
    "    raise Exception(f'No device found! Please connect a device and run '\n",
    "                    f'the example again.')\n",
    "\n",
    "device = devices[0]\n",
    "nodemap = device.nodemap\n",
    "print(f'Device used in the example:\\n\\t{device}')"
   ]
  },
  {
   "cell_type": "markdown",
   "metadata": {},
   "source": [
    "##### Explores: nodes\n",
    "> - retrieves display name\n",
    "> - retrieves accessibility\n",
    "> - retrieves visibility\n",
    "> - retrieves interface type\n",
    "> - retrieves value"
   ]
  },
  {
   "cell_type": "code",
   "execution_count": null,
   "metadata": {},
   "outputs": [],
   "source": [
    "def explore_node(node, nodemap, depth):\n",
    "    # Get display name\n",
    "    display_name = node.display_name\n",
    "\n",
    "    # Retrieve accessibility\n",
    "    access_mode = node.access_mode\n",
    "    access_mode_str = str(access_mode)\n",
    "\n",
    "    # Retrieve visibility\n",
    "    visibility = node.visibility\n",
    "    visibility_str = str(visibility)\n",
    "\n",
    "    # Retrieve interface type\n",
    "    interface_type = node.interface_type\n",
    "    interface_type_str = str(interface_type)\n",
    "\n",
    "    # Retrieve value if node is not a category or register node and is readable\n",
    "    value = \"-\"\n",
    "    if (node.is_readable and\n",
    "       (node.interface_type.value != 7 and node.interface_type.value != 8)):\n",
    "        value = str(node.value)\n",
    "\n",
    "    # Check and print the desired information\n",
    "    access_mode_explored = None\n",
    "    visibility_explored = None\n",
    "    interface_type_explored = None\n",
    "\n",
    "    if (explore_access):\n",
    "        access_mode_explored = access_mode_str\n",
    "\n",
    "    if (explore_visibility):\n",
    "        visibility_explored = visibility_str\n",
    "\n",
    "    if (explore_type):\n",
    "        interface_type_explored = interface_type_str\n",
    "\n",
    "    if (explore_value):\n",
    "        value_explored = value\n",
    "\n",
    "    print(\" \" * depth, '{:<40}{:<20}{:<25}{:<30}{:}'.format(display_name,\n",
    "          access_mode_explored, visibility_explored, interface_type_explored,\n",
    "          value_explored))\n",
    "\n",
    "    # Explore category node children\n",
    "    if (node.interface_type.value == 8):\n",
    "        children = node.features\n",
    "        for val in children:\n",
    "            explore_node(nodemap.get_node(val), nodemap, depth+1)"
   ]
  },
  {
   "cell_type": "markdown",
   "metadata": {},
   "source": [
    "##### Initialize the Root node, call the explore nodes function"
   ]
  },
  {
   "cell_type": "code",
   "execution_count": null,
   "metadata": {},
   "outputs": [],
   "source": [
    "node = nodemap.get_node('Root')\n",
    "print(\"Example Started\")\n",
    "\n",
    "explore_node(node, nodemap, 0)"
   ]
  },
  {
   "cell_type": "markdown",
   "metadata": {},
   "source": [
    "##### Clean up ----------------------------------------------------------------\n",
    "> Destroy device. This call is optional and will automatically be\n",
    "  called for any remaining devices when the system module is unloading."
   ]
  },
  {
   "cell_type": "code",
   "execution_count": null,
   "metadata": {},
   "outputs": [],
   "source": [
    "system.destroy_device()\n",
    "print(\"\\nExample Finished\")"
   ]
  }
 ],
 "metadata": {
  "interpreter": {
   "hash": "520c5ad4575fadc5aeff8f7fe0ecb965d054482e0492acfe5440edeef6b5197d"
  },
  "kernelspec": {
   "display_name": "Python 3.6.8 64-bit ('ve_win_dev_py64': venv)",
   "name": "python3"
  },
  "language_info": {
   "codemirror_mode": {
    "name": "ipython",
    "version": 3
   },
   "file_extension": ".py",
   "mimetype": "text/x-python",
   "name": "python",
   "nbconvert_exporter": "python",
   "pygments_lexer": "ipython3",
   "version": "3.6.8"
  },
  "orig_nbformat": 4
 },
 "nbformat": 4,
 "nbformat_minor": 2
}
